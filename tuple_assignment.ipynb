{
 "cells": [
  {
   "cell_type": "markdown",
   "id": "6cade624",
   "metadata": {},
   "source": [
    "# Module 3: Data Structures Assignments\n",
    "## Lesson 3.2: Tuples\n",
    "### Assignment 1: Creating and Accessing Tuples\n",
    "\n",
    "Create a tuple with the first 10 positive integers. Print the tuple.\n",
    "\n",
    "### Assignment 2: Accessing Tuple Elements\n",
    "\n",
    "Print the first, middle, and last elements of the tuple created in Assignment 1.\n",
    "\n",
    "### Assignment 3: Tuple Slicing\n",
    "\n",
    "Print the first three elements, the last three elements, and the elements from index 2 to 5 of the tuple created in Assignment 1.\n",
    "\n",
    "### Assignment 4: Nested Tuples\n",
    "\n",
    "Create a nested tuple representing a 3x3 matrix and print the matrix. Access and print the element at the second row and third column.\n",
    "\n",
    "### Assignment 5: Tuple Concatenation\n",
    "\n",
    "Concatenate two tuples: (1, 2, 3) and (4, 5, 6). Print the resulting tuple.\n",
    "\n",
    "### Assignment 6: Tuple Methods\n",
    "\n",
    "Create a tuple with duplicate elements and count the occurrences of an element. Find the index of the first occurrence of an element in the tuple.\n",
    "\n",
    "### Assignment 7: Unpacking Tuples\n",
    "\n",
    "Create a tuple with 5 elements and unpack it into 5 variables. Print the variables.\n",
    "\n",
    "### Assignment 8: Tuple Conversion\n",
    "\n",
    "Convert a list of the first 5 positive integers to a tuple. Print the tuple.\n",
    "\n",
    "### Assignment 9: Tuple of Tuples\n",
    "\n",
    "Create a tuple containing 3 tuples, each with 3 elements. Print the tuple of tuples.\n",
    "\n",
    "### Assignment 10: Tuple and List\n",
    "\n",
    "Create a tuple with the first 5 positive integers. Convert it to a list, append the number 6, and convert it back to a tuple. Print the resulting tuple.\n",
    "\n",
    "### Assignment 11: Tuple and String\n",
    "\n",
    "Create a tuple with the characters of a string. Join the tuple elements into a single string. Print the string.\n",
    "\n",
    "### Assignment 12: Tuple and Dictionary\n",
    "\n",
    "Create a dictionary with tuple keys and integer values. Print the dictionary.\n",
    "\n",
    "### Assignment 13: Nested Tuple Iteration\n",
    "\n",
    "Create a nested tuple and iterate over the elements, printing each element.\n",
    "\n",
    "### Assignment 14: Tuple and Set\n",
    "\n",
    "Create a tuple with duplicate elements. Convert it to a set to remove duplicates and print the resulting set.\n",
    "\n",
    "### Assignment 15: Tuple Functions\n",
    "\n",
    "Write functions that take a tuple and return the minimum, maximum, and sum of the elements. Print the results for a sample tuple."
   ]
  },
  {
   "cell_type": "code",
   "execution_count": 2,
   "metadata": {},
   "outputs": [
    {
     "name": "stdout",
     "output_type": "stream",
     "text": [
      "(1, 2, 3, 4, 5, 6, 7, 8, 9, 10)\n"
     ]
    }
   ],
   "source": [
    "# 1\n",
    "tup = tuple(range(1,11))\n",
    "print(tup)"
   ]
  },
  {
   "cell_type": "code",
   "execution_count": 4,
   "id": "94963c79",
   "metadata": {},
   "outputs": [
    {
     "name": "stdout",
     "output_type": "stream",
     "text": [
      "1\n",
      "6\n",
      "10\n"
     ]
    }
   ],
   "source": [
    "# 2 \n",
    "print(tup[0])\n",
    "print(tup[5])\n",
    "print(tup[9])"
   ]
  },
  {
   "cell_type": "code",
   "execution_count": 16,
   "id": "7e9f473f",
   "metadata": {},
   "outputs": [
    {
     "name": "stdout",
     "output_type": "stream",
     "text": [
      "(1, 2, 3)\n",
      "(8, 9, 10)\n",
      "(3, 4, 5)\n"
     ]
    }
   ],
   "source": [
    "# 3\n",
    "print(tup[0:3])\n",
    "print(tup[-3:])\n",
    "print(tup[2:5])"
   ]
  },
  {
   "cell_type": "code",
   "execution_count": 44,
   "id": "230c9f2f",
   "metadata": {},
   "outputs": [
    {
     "name": "stdout",
     "output_type": "stream",
     "text": [
      "Matrix:\n",
      "(1, 2, 3)\n",
      "(4, 5, 6)\n",
      "(6, 7, 8)\n",
      "6\n"
     ]
    }
   ],
   "source": [
    "# 4 \n",
    "mat_tup = (\n",
    "    (1,2,3),\n",
    "    (4,5,6),\n",
    "    (6,7,8)\n",
    ")\n",
    "print(\"Matrix:\")\n",
    "for ele in mat_tup:\n",
    "    print(ele)\n",
    "print(mat_tup[1][2]) # accessing matrix element "
   ]
  },
  {
   "cell_type": "code",
   "execution_count": 23,
   "id": "e3c02225",
   "metadata": {},
   "outputs": [
    {
     "name": "stdout",
     "output_type": "stream",
     "text": [
      "(1, 2, 3, 4, 5, 6)\n"
     ]
    }
   ],
   "source": [
    "# 5\n",
    "tup1 = (1,2,3)\n",
    "tup2 = (4,5,6)\n",
    "print(tup1+tup2)"
   ]
  },
  {
   "cell_type": "code",
   "execution_count": 32,
   "id": "c623b0e9",
   "metadata": {},
   "outputs": [
    {
     "name": "stdout",
     "output_type": "stream",
     "text": [
      "Occurence of 2 is 3 times\n",
      "Index of first occurence of 2 is 1\n"
     ]
    }
   ],
   "source": [
    "# 6\n",
    "rt = (1,2,3,2,3,4,9,3,2)\n",
    "print(f\"Occurence of 2 is {rt.count(2)} times\")\n",
    "print(f\"Index of first occurence of 2 is {rt.index(2)}\")"
   ]
  },
  {
   "cell_type": "code",
   "execution_count": 33,
   "id": "31792155",
   "metadata": {},
   "outputs": [
    {
     "name": "stdout",
     "output_type": "stream",
     "text": [
      "1 2 3 4 5 6\n"
     ]
    }
   ],
   "source": [
    "# 7 \n",
    "mytup = (1,2,3,4,5,6)\n",
    "a, b, c, d, e, f = mytup\n",
    "print(a, b, c, d, e, f)"
   ]
  },
  {
   "cell_type": "code",
   "execution_count": 41,
   "id": "7b7b6ad3",
   "metadata": {},
   "outputs": [
    {
     "name": "stdout",
     "output_type": "stream",
     "text": [
      "(1, 2, 3, 4, 5)\n"
     ]
    }
   ],
   "source": [
    "# 8 \n",
    "lst = list(range(1,6))\n",
    "lt = tuple(lst)\n",
    "print(lt)\n"
   ]
  },
  {
   "cell_type": "code",
   "execution_count": 42,
   "id": "0f243fef",
   "metadata": {},
   "outputs": [
    {
     "name": "stdout",
     "output_type": "stream",
     "text": [
      "((1, 2, 3), (4, 5, 6), (4, 4, 5))\n"
     ]
    }
   ],
   "source": [
    "# 9\n",
    "tot = ((1,2,3),(4,5,6),(4,4,5))\n",
    "print(tot)"
   ]
  },
  {
   "cell_type": "code",
   "execution_count": 52,
   "id": "8510db60",
   "metadata": {},
   "outputs": [
    {
     "name": "stdout",
     "output_type": "stream",
     "text": [
      "(1, 2, 3, 4, 5, 6)\n"
     ]
    }
   ],
   "source": [
    "# 10 \n",
    "tup_1 = tuple(range(1,6))\n",
    "lst = list(tup_1)\n",
    "lst.append(6)\n",
    "tp = tuple(lst)\n",
    "print(tp)\n"
   ]
  },
  {
   "cell_type": "code",
   "execution_count": 54,
   "id": "d760a952",
   "metadata": {},
   "outputs": [
    {
     "name": "stdout",
     "output_type": "stream",
     "text": [
      "Manish\n"
     ]
    }
   ],
   "source": [
    "# 11\n",
    "string = \"Manish\"\n",
    "tps = tuple(string)\n",
    "joined_str = ''.join(string)\n",
    "print(joined_str)"
   ]
  },
  {
   "cell_type": "code",
   "execution_count": 58,
   "id": "3a9b5b3a",
   "metadata": {},
   "outputs": [
    {
     "name": "stdout",
     "output_type": "stream",
     "text": [
      "{(1, 2): 3, (9, 3): 4, (5, 4): 5}\n"
     ]
    }
   ],
   "source": [
    "# 12\n",
    "td = {\n",
    "    (1,2):3,\n",
    "    (9,3):4,\n",
    "    (5,4):5\n",
    "}\n",
    "print(td)"
   ]
  },
  {
   "cell_type": "code",
   "execution_count": 60,
   "id": "b788d467",
   "metadata": {},
   "outputs": [
    {
     "name": "stdout",
     "output_type": "stream",
     "text": [
      "1\n",
      "2\n",
      "3\n",
      "4\n",
      "5\n",
      "6\n",
      "7\n",
      "8\n",
      "9\n"
     ]
    }
   ],
   "source": [
    "# 13 \n",
    "nested_tpl = (\n",
    "    (1, 2, 3),\n",
    "    (4, 5, 6),\n",
    "    (7, 8, 9)\n",
    ")\n",
    "for ele in nested_tpl:\n",
    "    for elem in ele:\n",
    "        print(elem)"
   ]
  },
  {
   "cell_type": "code",
   "execution_count": 62,
   "id": "d9c94795",
   "metadata": {},
   "outputs": [
    {
     "name": "stdout",
     "output_type": "stream",
     "text": [
      "[1, 2, 3, 4, 5, 32, 392]\n"
     ]
    }
   ],
   "source": [
    "# 14\n",
    "dt = (1,2,3,4,5,4,5,3,5,32,392,4,5,2)\n",
    "dt_unique = set(dt)\n",
    "sorted_dt = sorted(dt_unique)\n",
    "print(sorted_dt)"
   ]
  },
  {
   "cell_type": "code",
   "execution_count": 74,
   "id": "66bb7615",
   "metadata": {},
   "outputs": [
    {
     "name": "stdout",
     "output_type": "stream",
     "text": [
      "The minimum element of sample tuple is:20\n",
      "The maximum element of sample tuple is: 2923\n",
      "The sum of all elements of the sample tuple is: 6720\n"
     ]
    }
   ],
   "source": [
    "# 15\n",
    "\n",
    "def minimum(tm):\n",
    "    return min(tm)\n",
    "def maximum(tm):\n",
    "    return max(tm)\n",
    "def sum_tuple(tm):\n",
    "    return sum(tm)\n",
    "sample_tuple = (292,39,2923,1294,201,20,1922,29)\n",
    "print(f\"The minimum element of sample tuple is:{minimum(sample_tuple)}\")\n",
    "print(f\"The maximum element of sample tuple is: {maximum(sample_tuple)}\")\n",
    "print(f\"The sum of all elements of the sample tuple is: {sum_tuple(sample_tuple)}\")\n",
    "\n"
   ]
  },
  {
   "cell_type": "code",
   "execution_count": null,
   "id": "c5a37639",
   "metadata": {},
   "outputs": [],
   "source": []
  }
 ],
 "metadata": {
  "kernelspec": {
   "display_name": "Python 3",
   "language": "python",
   "name": "python3"
  },
  "language_info": {
   "codemirror_mode": {
    "name": "ipython",
    "version": 3
   },
   "file_extension": ".py",
   "mimetype": "text/x-python",
   "name": "python",
   "nbconvert_exporter": "python",
   "pygments_lexer": "ipython3",
   "version": "3.12.5"
  }
 },
 "nbformat": 4,
 "nbformat_minor": 5
}
