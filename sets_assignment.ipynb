{
 "cells": [
  {
   "cell_type": "markdown",
   "metadata": {},
   "source": [
    "# Module 3: Data Structures Assignments\n",
    "## Lesson 3.3: Sets\n",
    "### Assignment 1: Creating and Accessing Sets\n",
    "\n",
    "Create a set with the first 10 positive integers. Print the set.\n",
    "\n",
    "### Assignment 2: Adding and Removing Elements\n",
    "\n",
    "Add the number 11 to the set created in Assignment 1. Then remove the number 1 from the set. Print the modified set.\n",
    "\n",
    "### Assignment 3: Set Operations\n",
    "\n",
    "Create two sets: one with the first 5 positive integers and another with the first 5 even integers. Perform and print the results of union, intersection, difference, and symmetric difference operations on these sets.\n",
    "\n",
    "### Assignment 4: Set Comprehensions\n",
    "\n",
    "Create a new set containing the squares of the first 10 positive integers using a set comprehension. Print the new set.\n",
    "\n",
    "### Assignment 5: Filtering Sets\n",
    "\n",
    "Create a new set containing only the even numbers from the set created in Assignment 1 using a set comprehension. Print the new set.\n",
    "\n",
    "### Assignment 6: Set Methods\n",
    "\n",
    "Create a set with duplicate elements and remove the duplicates using set methods. Print the modified set.\n",
    "\n",
    "### Assignment 7: Subsets and Supersets\n",
    "\n",
    "Create two sets: one with the first 5 positive integers and another with the first 3 positive integers. Check if the second set is a subset of the first set and if the first set is a superset of the second set. Print the results.\n",
    "\n",
    "### Assignment 8: Frozenset\n",
    "\n",
    "Create a frozenset with the first 5 positive integers. Print the frozenset.\n",
    "\n",
    "### Assignment 9: Set and List Conversion\n",
    "\n",
    "Create a set with the first 5 positive integers. Convert it to a list, append the number 6, and convert it back to a set. Print the resulting set.\n",
    "\n",
    "### Assignment 10: Set and Dictionary\n",
    "\n",
    "Create a dictionary with set keys and integer values. Print the dictionary.\n",
    "\n",
    "### Assignment 11: Iterating Over Sets\n",
    "\n",
    "Create a set and iterate over the elements, printing each element.\n",
    "\n",
    "### Assignment 12: Removing Elements from Sets\n",
    "\n",
    "Create a set and remove elements from it until it is empty. Print the set after each removal.\n",
    "\n",
    "### Assignment 13: Set Symmetric Difference Update\n",
    "\n",
    "Create two sets and update the first set with the symmetric difference of the two sets. Print the modified first set.\n",
    "\n",
    "### Assignment 14: Set Membership Testing\n",
    "\n",
    "Create a set and test if certain elements are present in the set. Print the results.\n",
    "\n",
    "### Assignment 15: Set of Tuples\n",
    "\n",
    "Create a set containing tuples, where each tuple contains two elements. Print the set."
   ]
  },
  {
   "cell_type": "code",
   "execution_count": 10,
   "metadata": {},
   "outputs": [
    {
     "name": "stdout",
     "output_type": "stream",
     "text": [
      "{1, 2, 3, 4, 5, 6, 7, 8, 9, 10}\n"
     ]
    }
   ],
   "source": [
    "# 1\n",
    "set_num = set(range(1,11))\n",
    "print(set_num)"
   ]
  },
  {
   "cell_type": "code",
   "execution_count": 11,
   "id": "730bc642",
   "metadata": {},
   "outputs": [
    {
     "name": "stdout",
     "output_type": "stream",
     "text": [
      "{2, 3, 4, 5, 6, 7, 8, 9, 10, 11}\n"
     ]
    }
   ],
   "source": [
    "#2\n",
    "set_num.add(11)\n",
    "set_num.remove(1)\n",
    "print(set_num)"
   ]
  },
  {
   "cell_type": "code",
   "execution_count": 25,
   "id": "3edc19b1",
   "metadata": {},
   "outputs": [
    {
     "name": "stdout",
     "output_type": "stream",
     "text": [
      "{1, 2, 3, 4}\n",
      "{2, 4, 6, 8, 10}\n",
      "Union: {1, 2, 3, 4, 6, 8, 10}\n",
      "Intersection: {2, 4}\n",
      "Difference: {1, 3}\n",
      "symmetric difference: {1, 3, 6, 8, 10}\n"
     ]
    }
   ],
   "source": [
    "# 3\n",
    "set_A = set(range(1,5))\n",
    "set_B = set(range(2,11,2))\n",
    "print(set_A)\n",
    "print(set_B)\n",
    "print(f\"Union: {set_A | set_B}\")\n",
    "print(f\"Intersection: {set_A & set_B}\")\n",
    "print(f\"Difference: {set_A - set_B}\")\n",
    "print(f\"symmetric difference: {set_A ^ set_B}\")"
   ]
  },
  {
   "cell_type": "code",
   "execution_count": 30,
   "id": "ccd98aa6",
   "metadata": {},
   "outputs": [
    {
     "name": "stdout",
     "output_type": "stream",
     "text": [
      "[1, 4, 9, 16, 25, 36, 49, 64, 81, 100]\n"
     ]
    }
   ],
   "source": [
    "# 4\n",
    "A = {x**2 for x in range(1,11)}\n",
    "sorted_A= sorted(A)\n",
    "print(sorted_A)\n"
   ]
  },
  {
   "cell_type": "code",
   "execution_count": 34,
   "id": "a6c02837",
   "metadata": {},
   "outputs": [
    {
     "name": "stdout",
     "output_type": "stream",
     "text": [
      "{2, 4, 6, 8, 10}\n"
     ]
    }
   ],
   "source": [
    "# 5\n",
    "even = {x for x in set_num if x%2==0}\n",
    "print(even)"
   ]
  },
  {
   "cell_type": "code",
   "execution_count": 37,
   "id": "71cf1c58",
   "metadata": {},
   "outputs": [
    {
     "name": "stdout",
     "output_type": "stream",
     "text": [
      "[1, 2, 3, 4, 5, 6, 8, 23, 56, 76, 89, 98]\n"
     ]
    }
   ],
   "source": [
    "# 6 \n",
    "s = { 1,2,3,23,4,1,2,3,5,4,6,23,8,6,98,89,98,76,56,76,56}\n",
    "unique = set(s)\n",
    "sorted_unique = sorted(unique)\n",
    "print(sorted_unique)"
   ]
  },
  {
   "cell_type": "code",
   "execution_count": 42,
   "id": "3d471821",
   "metadata": {},
   "outputs": [
    {
     "name": "stdout",
     "output_type": "stream",
     "text": [
      "If B is subset of A? True\n",
      "Is A is superset of B?True\n"
     ]
    }
   ],
   "source": [
    "# 7\n",
    "A = { x for x in range(1,6)}\n",
    "B = {x for x in range(1,4)}\n",
    "print(f\"If B is subset of A? {B.issubset(A)}\")\n",
    "print(f\"Is A is superset of B?{A.issuperset(B)}\")"
   ]
  },
  {
   "cell_type": "code",
   "execution_count": 47,
   "id": "3b41677f",
   "metadata": {},
   "outputs": [
    {
     "name": "stdout",
     "output_type": "stream",
     "text": [
      "frozenset({1, 2, 3, 4, 5})\n"
     ]
    }
   ],
   "source": [
    "# 8\n",
    "new = frozenset(range(1,6))\n",
    "print(new)"
   ]
  },
  {
   "cell_type": "code",
   "execution_count": 50,
   "id": "7366fd16",
   "metadata": {},
   "outputs": [
    {
     "name": "stdout",
     "output_type": "stream",
     "text": [
      "{1, 2, 3, 4, 5, 6}\n"
     ]
    }
   ],
   "source": [
    "#9 \n",
    "s1 = set(range(1,6))\n",
    "s1_list = list(s1)\n",
    "s1_list.append(6)\n",
    "final_s1 = set(s1_list)\n",
    "print(final_s1)"
   ]
  },
  {
   "cell_type": "code",
   "execution_count": 52,
   "id": "4f6f3654",
   "metadata": {},
   "outputs": [
    {
     "name": "stdout",
     "output_type": "stream",
     "text": [
      "{frozenset({1, 4}): 3, frozenset({8, 2}): 9, frozenset({4, 7}): 2}\n"
     ]
    }
   ],
   "source": [
    "# 10 \n",
    "m = {\n",
    "    frozenset({1,4}): 3,\n",
    "    frozenset({2,8}): 9,\n",
    "    frozenset({4,7}): 2\n",
    "    \n",
    "}\n",
    "print(m)"
   ]
  },
  {
   "cell_type": "code",
   "execution_count": 55,
   "id": "ed00afc1",
   "metadata": {},
   "outputs": [
    {
     "name": "stdout",
     "output_type": "stream",
     "text": [
      "0\n",
      "1\n",
      "2\n",
      "3\n",
      "4\n",
      "5\n"
     ]
    }
   ],
   "source": [
    "# 11\n",
    "j = set(range(6))\n",
    "for ele in j:\n",
    "    print(ele)"
   ]
  },
  {
   "cell_type": "code",
   "execution_count": 53,
   "id": "1710b465",
   "metadata": {},
   "outputs": [
    {
     "name": "stdout",
     "output_type": "stream",
     "text": [
      "set()\n"
     ]
    }
   ],
   "source": [
    "# 12 \n",
    "pop = set(range(1,10))\n",
    "for i in range(1,10):\n",
    "    pop.remove(i)\n",
    "print(pop)    "
   ]
  },
  {
   "cell_type": "code",
   "execution_count": 61,
   "id": "f88a6ae5",
   "metadata": {},
   "outputs": [
    {
     "name": "stdout",
     "output_type": "stream",
     "text": [
      "{1, 2, 3, 6, 7, 8}\n"
     ]
    }
   ],
   "source": [
    "# 13\n",
    "fs = {1,2,3,4,5,3,4,5,2,3,9}\n",
    "ss = {4,5,6,7,8,9,6}\n",
    "fs.symmetric_difference_update(ss)\n",
    "print(fs)"
   ]
  },
  {
   "cell_type": "code",
   "execution_count": 64,
   "id": "38f62fe9",
   "metadata": {},
   "outputs": [
    {
     "name": "stdout",
     "output_type": "stream",
     "text": [
      "True\n"
     ]
    },
    {
     "data": {
      "text/plain": [
       "True"
      ]
     },
     "execution_count": 64,
     "metadata": {},
     "output_type": "execute_result"
    }
   ],
   "source": [
    "# 14\n",
    "h = set(range(2,100,9))\n",
    "print(11 in h)\n",
    "h.__contains__(11)"
   ]
  },
  {
   "cell_type": "code",
   "execution_count": 66,
   "id": "a676f574",
   "metadata": {},
   "outputs": [
    {
     "name": "stdout",
     "output_type": "stream",
     "text": [
      "{(1, 2), (3, 4), (5, 6)}\n"
     ]
    }
   ],
   "source": [
    "# 15\n",
    "s = { (1, 2), (3, 4), (5, 6) }\n",
    "print(s)"
   ]
  },
  {
   "cell_type": "code",
   "execution_count": null,
   "id": "32959cc1",
   "metadata": {},
   "outputs": [],
   "source": []
  }
 ],
 "metadata": {
  "kernelspec": {
   "display_name": "Python 3",
   "language": "python",
   "name": "python3"
  },
  "language_info": {
   "codemirror_mode": {
    "name": "ipython",
    "version": 3
   },
   "file_extension": ".py",
   "mimetype": "text/x-python",
   "name": "python",
   "nbconvert_exporter": "python",
   "pygments_lexer": "ipython3",
   "version": "3.12.5"
  }
 },
 "nbformat": 4,
 "nbformat_minor": 5
}
